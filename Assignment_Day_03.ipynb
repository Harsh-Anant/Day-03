{
 "cells": [
  {
   "cell_type": "code",
   "execution_count": 2,
   "metadata": {},
   "outputs": [
    {
     "name": "stdout",
     "output_type": "stream",
     "text": [
      "(-1-8j)\n"
     ]
    }
   ],
   "source": [
    "# 1. Substraction of two complex numbers\n",
    "\n",
    "print(2j-(1+10j))"
   ]
  },
  {
   "cell_type": "code",
   "execution_count": 3,
   "metadata": {},
   "outputs": [
    {
     "name": "stdout",
     "output_type": "stream",
     "text": [
      "5.0\n"
     ]
    }
   ],
   "source": [
    "# 2. Fourth root of the number\n",
    "\n",
    "a=625\n",
    "print(a**0.25)"
   ]
  },
  {
   "cell_type": "code",
   "execution_count": 9,
   "metadata": {},
   "outputs": [
    {
     "name": "stdout",
     "output_type": "stream",
     "text": [
      "Before Swapping: a= 12 and b= 172\n",
      "After Swapping: a= 172 and b= 12\n"
     ]
    }
   ],
   "source": [
    "# 3. Swapping of two numbers with temporary variable\n",
    "\n",
    "a=12\n",
    "b=172\n",
    "print(\"Before Swapping: a=\",a,\"and\",\"b=\",b)\n",
    "c=a\n",
    "a=b\n",
    "b=c\n",
    "print(\"After Swapping: a=\",a,\"and\",\"b=\",b)"
   ]
  },
  {
   "cell_type": "code",
   "execution_count": 8,
   "metadata": {},
   "outputs": [
    {
     "name": "stdout",
     "output_type": "stream",
     "text": [
      "Before Swapping: a= 12 and b= 172\n",
      "After Swapping: a= 172 and b= 12\n"
     ]
    }
   ],
   "source": [
    "# 4. Swapping of two numbers without temporary variable\n",
    "\n",
    "a=12\n",
    "b=172\n",
    "print(\"Before Swapping: a=\",a,\"and\",\"b=\",b)\n",
    "a=a+b\n",
    "b=a-b\n",
    "a=a-b\n",
    "print(\"After Swapping: a=\",a,\"and\",\"b=\",b)"
   ]
  },
  {
   "cell_type": "code",
   "execution_count": 6,
   "metadata": {
    "scrolled": true
   },
   "outputs": [
    {
     "name": "stdout",
     "output_type": "stream",
     "text": [
      "Celsius equivalent:  37.0\n",
      "Kelvin equivalent:  310.15\n"
     ]
    }
   ],
   "source": [
    "# 5. Conversion from Fahrenheit to celsius and kelvin.\n",
    "\n",
    "F=98.6\n",
    "c=(F-32)*(5/9)\n",
    "print(\"Celsius equivalent: \",c)\n",
    "print(\"Kelvin equivalent: \",c+273.15)\n"
   ]
  },
  {
   "cell_type": "code",
   "execution_count": 7,
   "metadata": {},
   "outputs": [
    {
     "name": "stdout",
     "output_type": "stream",
     "text": [
      "<class 'int'>\n",
      "<class 'float'>\n",
      "<class 'complex'>\n",
      "<class 'int'>\n",
      "<class 'str'>\n",
      "<class 'bool'>\n"
     ]
    }
   ],
   "source": [
    "#Demonstration of all datatypes in Python.\n",
    "\n",
    "print(type(23))\n",
    "print(type(23.5))\n",
    "print(type(23j))\n",
    "print(type(9000009876))\n",
    "print(type(\"LetsUpgrade\"))\n",
    "print(type(True))"
   ]
  },
  {
   "cell_type": "markdown",
   "metadata": {},
   "source": [
    "__Steps to create profile and upload Githubs Assignment link are as follows:__\n",
    "\n",
    "1. Go to the official website of the Github.\n",
    "\n",
    "2. Then create your account by filling the form required for the registration.\n",
    "\n",
    "3. After the registration, login in to the github.\n",
    "\n",
    "4. After logging in, click on the 'New Repository'.\n",
    "\n",
    "5. Fill the fields namely 'Repository Name' and if required 'Description' also and keep it public rather than private.\n",
    "\n",
    "6. Click on 'Create Repository'.\n",
    "\n",
    "7. Go to 'upload the files' and then drag the required file from its present location in the system to the drag box thus opened.\n",
    "\n",
    "8. After the coressponding file got uploaded then go the location of that file in your github repository.\n",
    "\n",
    "9. Copy the link thus appeared in the address bar of the browser.\n",
    "\n",
    "10. Paste the copied link in the space provided in the google form.  \n"
   ]
  },
  {
   "cell_type": "code",
   "execution_count": null,
   "metadata": {},
   "outputs": [],
   "source": []
  }
 ],
 "metadata": {
  "kernelspec": {
   "display_name": "Python 3",
   "language": "python",
   "name": "python3"
  },
  "language_info": {
   "codemirror_mode": {
    "name": "ipython",
    "version": 3
   },
   "file_extension": ".py",
   "mimetype": "text/x-python",
   "name": "python",
   "nbconvert_exporter": "python",
   "pygments_lexer": "ipython3",
   "version": "3.5.6"
  }
 },
 "nbformat": 4,
 "nbformat_minor": 2
}
